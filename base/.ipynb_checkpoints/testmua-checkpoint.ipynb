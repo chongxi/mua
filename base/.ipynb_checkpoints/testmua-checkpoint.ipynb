{
 "cells": [
  {
   "cell_type": "code",
   "execution_count": 1,
   "metadata": {
    "ExecuteTime": {
     "end_time": "2016-05-11T11:52:09.882000",
     "start_time": "2016-05-11T11:52:08.858000"
    },
    "collapsed": true
   },
   "outputs": [],
   "source": [
    "from MUA import *\n",
    "from Vis import rho_scatter_3d\n",
    "from phy.plot import View\n",
    "from hdbscan import HDBSCAN\n",
    "import phy\n",
    "from phy.gui import GUI\n",
    "import seaborn as sns\n",
    "import vispy.scene\n",
    "from vispy.scene import visuals\n",
    "from vispy.visuals.transforms import STTransform\n",
    "%gui qt"
   ]
  },
  {
   "cell_type": "code",
   "execution_count": 11,
   "metadata": {
    "ExecuteTime": {
     "end_time": "2016-05-11T12:06:57.989000",
     "start_time": "2016-05-11T12:06:53.513000"
    },
    "collapsed": true
   },
   "outputs": [],
   "source": [
    "mua = MUA(filename='S:/pcie.bin', nCh=32, fs=25000, numbytes=4)\n",
    "spk = mua.tospk()"
   ]
  },
  {
   "cell_type": "code",
   "execution_count": 12,
   "metadata": {
    "ExecuteTime": {
     "end_time": "2016-05-11T12:06:59.599000",
     "start_time": "2016-05-11T12:06:59.504000"
    },
    "collapsed": true
   },
   "outputs": [],
   "source": [
    "fet = spk.tofet('pca')"
   ]
  },
  {
   "cell_type": "code",
   "execution_count": 13,
   "metadata": {
    "ExecuteTime": {
     "end_time": "2016-05-11T12:07:02.035000",
     "start_time": "2016-05-11T12:07:01.833000"
    },
    "collapsed": false
   },
   "outputs": [
    {
     "data": {
      "text/plain": [
       "<phy.gui.gui.DockWidget at 0x856beb88>"
      ]
     },
     "execution_count": 13,
     "metadata": {},
     "output_type": "execute_result"
    }
   ],
   "source": [
    "from ipywidgets import interact"
   ]
  },
  {
   "cell_type": "code",
   "execution_count": 14,
   "metadata": {
    "ExecuteTime": {
     "end_time": "2016-05-11T12:11:43.029000",
     "start_time": "2016-05-11T12:11:42.634000"
    },
    "collapsed": false
   },
   "outputs": [
    {
     "name": "stdout",
     "output_type": "stream",
     "text": [
      "get clusters [-1  0  1  2]\n"
     ]
    }
   ],
   "source": [
    "@interact(ch=(0,31,1))\n",
    "def spike_sort(ch=0):\n",
    "    min_cluster_size = 5\n",
    "    leaf_size = 10\n",
    "    hdbcluster = HDBSCAN(min_cluster_size=min_cluster_size, \n",
    "                     leaf_size=leaf_size,\n",
    "                     gen_min_span_tree=True, \n",
    "                     algorithm='boruvka_kdtree')\n",
    "    clu = hdbcluster.fit_predict(fet[ch])\n",
    "    print 'get clusters', np.unique(clu)\n",
    "\n",
    "    gui = GUI(position=(400, 200), size=(600, 400), name=str(ch))\n",
    "    canvas = vispy.scene.SceneCanvas(keys='interactive', show=False, fullscreen=False)\n",
    "    scatterview = canvas.central_widget.add_view()\n",
    "    canvas.unfreeze()\n",
    "    gui.add_view(canvas)\n",
    "    scatter = rho_scatter_3d(fet[ch][:,:3],clu=clu)\n",
    "    scatterview.add(scatter)\n",
    "    scatterview.camera = 'turntable'  # or try 'arcball'\n",
    "    # add a colored 3D axis for orientation\n",
    "    axis = visuals.XYZAxis(parent=scatterview.scene)\n",
    "\n",
    "    nclu = len(np.unique(clu))\n",
    "    view = View(layout='grid',  shape=(3, nclu))\n",
    "    gui.add_view(view)\n",
    "    palette = sns.color_palette()\n",
    "\n",
    "    view.clear()\n",
    "    for chNo in range(3):\n",
    "        for clu_id in np.unique(clu):\n",
    "            color = palette[clu_id] if clu_id>=0 else np.array([1,1,1])\n",
    "            view[chNo,clu_id+1].plot(y=spk[ch][clu==clu_id,:,chNo].squeeze(),\n",
    "                                                  color = np.hstack((color, 0.2)),\n",
    "                                                  data_bounds=(-2, -1800, 2, 800))\n",
    "    view.build()\n",
    "    gui.show()"
   ]
  },
  {
   "cell_type": "code",
   "execution_count": null,
   "metadata": {
    "collapsed": true
   },
   "outputs": [],
   "source": []
  },
  {
   "cell_type": "code",
   "execution_count": null,
   "metadata": {
    "collapsed": true
   },
   "outputs": [],
   "source": []
  }
 ],
 "metadata": {
  "kernelspec": {
   "display_name": "Python 2",
   "language": "python",
   "name": "python2"
  },
  "language_info": {
   "codemirror_mode": {
    "name": "ipython",
    "version": 2
   },
   "file_extension": ".py",
   "mimetype": "text/x-python",
   "name": "python",
   "nbconvert_exporter": "python",
   "pygments_lexer": "ipython2",
   "version": "2.7.11"
  }
 },
 "nbformat": 4,
 "nbformat_minor": 0
}
