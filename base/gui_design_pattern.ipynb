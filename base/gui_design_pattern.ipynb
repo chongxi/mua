{
 "cells": [
  {
   "cell_type": "code",
   "execution_count": 1,
   "metadata": {
    "ExecuteTime": {
     "end_time": "2016-05-21T18:50:45.764243",
     "start_time": "2016-05-21T18:50:45.757552"
    },
    "collapsed": false
   },
   "outputs": [],
   "source": [
    "%gui qt"
   ]
  },
  {
   "cell_type": "code",
   "execution_count": 2,
   "metadata": {
    "ExecuteTime": {
     "end_time": "2016-05-21T18:50:47.111744",
     "start_time": "2016-05-21T18:50:46.994328"
    },
    "collapsed": true
   },
   "outputs": [],
   "source": [
    "from phy.gui import GUI"
   ]
  },
  {
   "cell_type": "code",
   "execution_count": 3,
   "metadata": {
    "ExecuteTime": {
     "end_time": "2016-05-21T18:50:47.898859",
     "start_time": "2016-05-21T18:50:47.114599"
    },
    "collapsed": false
   },
   "outputs": [
    {
     "name": "stderr",
     "output_type": "stream",
     "text": [
      "/Users/Chongxi/anaconda/lib/python2.7/site-packages/matplotlib/__init__.py:872: UserWarning: axes.color_cycle is deprecated and replaced with axes.prop_cycle; please use the latter.\n",
      "  warnings.warn(self.msg_depr % (key, alt_key))\n"
     ]
    }
   ],
   "source": [
    "from xview import view_scatter_3d"
   ]
  },
  {
   "cell_type": "code",
   "execution_count": 4,
   "metadata": {
    "ExecuteTime": {
     "end_time": "2016-05-21T18:50:47.904318",
     "start_time": "2016-05-21T18:50:47.901590"
    },
    "collapsed": true
   },
   "outputs": [],
   "source": [
    "import matplotlib.pyplot as plt\n",
    "import numpy as np"
   ]
  },
  {
   "cell_type": "code",
   "execution_count": 5,
   "metadata": {
    "ExecuteTime": {
     "end_time": "2016-05-21T18:50:47.909944",
     "start_time": "2016-05-21T18:50:47.906530"
    },
    "collapsed": false
   },
   "outputs": [],
   "source": [
    "n = 1000\n",
    "fet = np.random.randn(n,3)\n",
    "clu = np.zeros((n,1)).astype('i4')"
   ]
  },
  {
   "cell_type": "code",
   "execution_count": 6,
   "metadata": {
    "ExecuteTime": {
     "end_time": "2016-05-21T18:50:47.926537",
     "start_time": "2016-05-21T18:50:47.912020"
    },
    "collapsed": true
   },
   "outputs": [],
   "source": [
    "class proj_view(object):\n",
    "    def __init__(self):\n",
    "        self.fig = plt.figure()\n",
    "        self.ax = self.fig.add_subplot(111)\n",
    "        self.proj, = self.ax.plot([],[],'.')\n",
    "\n",
    "    def attach(self,gui):\n",
    "        gui.add_view(self.fig)\n",
    "\n",
    "    def set_data(self, data):\n",
    "        self.proj.set_data(data[:,0],data[:,1])\n",
    "        xmax = max(data[:,0].max(), data[:,1].max())\n",
    "        xmin = min(data[:,0].min(), data[:,1].min())\n",
    "        self.ax.set_xlim(xmin*1.4, xmax*1.4)\n",
    "        self.ax.set_ylim(xmin*1.4, xmax*1.4)\n",
    "        self.fig.canvas.draw()\n",
    "        \n",
    "    def update(self):\n",
    "        self.fig.canvas.draw()"
   ]
  },
  {
   "cell_type": "code",
   "execution_count": 7,
   "metadata": {
    "ExecuteTime": {
     "end_time": "2016-05-21T18:50:47.948994",
     "start_time": "2016-05-21T18:50:47.929862"
    },
    "collapsed": true
   },
   "outputs": [],
   "source": [
    "class XIKE_SORTER(object):\n",
    "    def __init__(self):\n",
    "        self.gui = GUI(position=(0, 0), size=(600, 400), name='GUI')\n",
    "        \n",
    "        self.scatter_view = view_scatter_3d()\n",
    "        self.scatter_view.attach(self.gui)\n",
    "        \n",
    "        self.proj_view = proj_view()\n",
    "        self.proj_view.attach(self.gui)\n",
    "    \n",
    "    def set_data(self,fet,clu):\n",
    "        self.scatter_view.set_data(fet,clu)\n",
    "        \n",
    "    def synchronize_proj(self):\n",
    "        # get rotation matrix rot, the row,col norm of rot both 1\n",
    "        rot = self.scatter_view.view.camera.transform.matrix[:3,:3]\n",
    "        fet_proj = np.dot(rot, fet.T).T\n",
    "        self.proj_view.set_data(fet_proj[:,:2])\n",
    "    \n",
    "    def show(self):\n",
    "        self.gui.show()"
   ]
  },
  {
   "cell_type": "code",
   "execution_count": 8,
   "metadata": {
    "ExecuteTime": {
     "end_time": "2016-05-21T18:50:48.192104",
     "start_time": "2016-05-21T18:50:47.952519"
    },
    "collapsed": false
   },
   "outputs": [],
   "source": [
    "sorter = XIKE_SORTER()"
   ]
  },
  {
   "cell_type": "code",
   "execution_count": 9,
   "metadata": {
    "ExecuteTime": {
     "end_time": "2016-05-21T18:50:48.211109",
     "start_time": "2016-05-21T18:50:48.194099"
    },
    "collapsed": false
   },
   "outputs": [
    {
     "name": "stderr",
     "output_type": "stream",
     "text": [
      "/Users/Chongxi/anaconda/lib/python2.7/site-packages/matplotlib/__init__.py:892: UserWarning: axes.color_cycle is deprecated and replaced with axes.prop_cycle; please use the latter.\n",
      "  warnings.warn(self.msg_depr % (key, alt_key))\n"
     ]
    }
   ],
   "source": [
    "sorter.set_data(fet,clu)"
   ]
  },
  {
   "cell_type": "code",
   "execution_count": 74,
   "metadata": {
    "ExecuteTime": {
     "end_time": "2016-05-21T23:08:23.373157",
     "start_time": "2016-05-21T23:08:23.354031"
    },
    "collapsed": true
   },
   "outputs": [],
   "source": [
    "sorter.show()"
   ]
  },
  {
   "cell_type": "code",
   "execution_count": 72,
   "metadata": {
    "ExecuteTime": {
     "end_time": "2016-05-21T23:06:59.884981",
     "start_time": "2016-05-21T23:06:59.867047"
    },
    "collapsed": true
   },
   "outputs": [],
   "source": [
    "fet = np.dot(np.random.randn(n,3),np.random.randn(3,3))\n",
    "sorter.set_data(fet,clu)"
   ]
  },
  {
   "cell_type": "code",
   "execution_count": 75,
   "metadata": {
    "ExecuteTime": {
     "end_time": "2016-05-21T23:08:35.224372",
     "start_time": "2016-05-21T23:08:35.190140"
    },
    "collapsed": false
   },
   "outputs": [],
   "source": [
    "sorter.synchronize_proj()"
   ]
  },
  {
   "cell_type": "code",
   "execution_count": 76,
   "metadata": {
    "ExecuteTime": {
     "end_time": "2016-05-22T18:10:04.048192",
     "start_time": "2016-05-22T18:10:04.043417"
    },
    "collapsed": false
   },
   "outputs": [
    {
     "data": {
      "text/plain": [
       "object"
      ]
     },
     "execution_count": 76,
     "metadata": {},
     "output_type": "execute_result"
    }
   ],
   "source": [
    "sorter.__class__.__base__"
   ]
  },
  {
   "cell_type": "code",
   "execution_count": null,
   "metadata": {
    "collapsed": true
   },
   "outputs": [],
   "source": []
  }
 ],
 "metadata": {
  "kernelspec": {
   "display_name": "Python 2",
   "language": "python",
   "name": "python2"
  },
  "language_info": {
   "codemirror_mode": {
    "name": "ipython",
    "version": 2
   },
   "file_extension": ".py",
   "mimetype": "text/x-python",
   "name": "python",
   "nbconvert_exporter": "python",
   "pygments_lexer": "ipython2",
   "version": "2.7.11"
  }
 },
 "nbformat": 4,
 "nbformat_minor": 0
}
