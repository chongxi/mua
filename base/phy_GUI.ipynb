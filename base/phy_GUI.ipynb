{
 "cells": [
  {
   "cell_type": "code",
   "execution_count": 11,
   "metadata": {
    "ExecuteTime": {
     "end_time": "2016-05-15T14:08:40.813000",
     "start_time": "2016-05-15T14:08:40.808000"
    },
    "collapsed": true
   },
   "outputs": [],
   "source": [
    "%gui qt\n",
    "from MUA import *\n",
    "from xview import ObjectWidget, view_multiwave, view_scatter_3d\n",
    "from phy.plot import View\n",
    "from phy.plot.interact import Grid\n",
    "from hdbscan import HDBSCAN\n",
    "import phy\n",
    "from phy.gui import GUI\n",
    "import seaborn as sns"
   ]
  },
  {
   "cell_type": "code",
   "execution_count": 2,
   "metadata": {
    "ExecuteTime": {
     "end_time": "2016-05-15T14:05:12.434000",
     "start_time": "2016-05-15T14:05:12.426000"
    },
    "collapsed": false
   },
   "outputs": [],
   "source": [
    "filename  = 'S:/pcie.bin'\n",
    "nCh       = 32\n",
    "fs        = 25000\n",
    "numbyte   = 4\n",
    "time_span = 1 # 1 seconds\n",
    "global time_slice\n",
    "time_slice = 0\n",
    "span = time_span * fs\n",
    "highlight = True"
   ]
  },
  {
   "cell_type": "code",
   "execution_count": 3,
   "metadata": {
    "ExecuteTime": {
     "end_time": "2016-05-15T14:05:16.889000",
     "start_time": "2016-05-15T14:05:13.096000"
    },
    "collapsed": true
   },
   "outputs": [],
   "source": [
    "mua = MUA(filename=filename, nCh=nCh, fs=fs, numbytes=numbyte)\n",
    "spk = mua.tospk()"
   ]
  },
  {
   "cell_type": "code",
   "execution_count": 4,
   "metadata": {
    "ExecuteTime": {
     "end_time": "2016-05-15T14:05:17.741000",
     "start_time": "2016-05-15T14:05:17.608000"
    },
    "collapsed": true
   },
   "outputs": [],
   "source": [
    "fet = spk.tofet('pca')"
   ]
  },
  {
   "cell_type": "code",
   "execution_count": 5,
   "metadata": {
    "ExecuteTime": {
     "end_time": "2016-05-15T14:05:18.527000",
     "start_time": "2016-05-15T14:05:18.481000"
    },
    "collapsed": false
   },
   "outputs": [],
   "source": [
    "gui = GUI(position=(0, 0), size=(600, 400), name='GUI')"
   ]
  },
  {
   "cell_type": "code",
   "execution_count": 6,
   "metadata": {
    "ExecuteTime": {
     "end_time": "2016-05-15T14:05:19.397000",
     "start_time": "2016-05-15T14:05:19.361000"
    },
    "collapsed": false
   },
   "outputs": [
    {
     "data": {
      "text/plain": [
       "<phy.gui.gui.DockWidget at 0xce8a8b8>"
      ]
     },
     "execution_count": 6,
     "metadata": {},
     "output_type": "execute_result"
    }
   ],
   "source": [
    "props = ObjectWidget()\n",
    "gui.add_view(props,position='left', name='params')"
   ]
  },
  {
   "cell_type": "code",
   "execution_count": 7,
   "metadata": {
    "ExecuteTime": {
     "end_time": "2016-05-15T14:05:20.758000",
     "start_time": "2016-05-15T14:05:20.098000"
    },
    "collapsed": false
   },
   "outputs": [
    {
     "data": {
      "text/plain": [
       "<phy.gui.gui.DockWidget at 0xce8ae58>"
      ]
     },
     "execution_count": 7,
     "metadata": {},
     "output_type": "execute_result"
    }
   ],
   "source": [
    "scatter_view = view_scatter_3d()\n",
    "scatter_view.unfreeze()\n",
    "gui.add_view(scatter_view)\n",
    "spk_view = View('grid')\n",
    "gui.add_view(spk_view)"
   ]
  },
  {
   "cell_type": "code",
   "execution_count": 8,
   "metadata": {
    "ExecuteTime": {
     "end_time": "2016-05-15T14:05:22.152000",
     "start_time": "2016-05-15T14:05:21.571000"
    },
    "collapsed": false,
    "scrolled": true
   },
   "outputs": [],
   "source": [
    "wave_view = view_multiwave(mua.data[time_slice*span:(time_slice+1)*span,:], fs=25000)\n",
    "wave_view.gap_value = 0.9\n",
    "wave_view.attach(gui)"
   ]
  },
  {
   "cell_type": "code",
   "execution_count": 9,
   "metadata": {
    "ExecuteTime": {
     "end_time": "2016-05-15T14:05:22.940000",
     "start_time": "2016-05-15T14:05:22.921000"
    },
    "collapsed": false
   },
   "outputs": [],
   "source": [
    "from phy.gui import Actions\n",
    "actions = Actions(gui)\n",
    "\n",
    "@actions.add(shortcut=',')\n",
    "def page_up():\n",
    "#     print 'page_up'\n",
    "    global time_slice\n",
    "    time_slice -= 1\n",
    "    if time_slice >= 0:\n",
    "        wave_view.set_data(mua.data[time_slice*span:(time_slice+1)*span,:], time_slice)\n",
    "    else:\n",
    "        time_slice = 0\n",
    "\n",
    "@actions.add(shortcut='.')\n",
    "def page_down():\n",
    "#     print 'page_down'\n",
    "    global time_slice\n",
    "    time_slice += 1\n",
    "    wave_view.set_data(mua.data[time_slice*span:(time_slice+1)*span,:], time_slice)"
   ]
  },
  {
   "cell_type": "code",
   "execution_count": 10,
   "metadata": {
    "ExecuteTime": {
     "end_time": "2016-05-15T14:05:24.270000",
     "start_time": "2016-05-15T14:05:24.144000"
    },
    "collapsed": false
   },
   "outputs": [],
   "source": [
    "gui.show()"
   ]
  },
  {
   "cell_type": "code",
   "execution_count": 11,
   "metadata": {
    "ExecuteTime": {
     "end_time": "2016-05-14T15:54:36.451000",
     "start_time": "2016-05-14T15:54:36.445000"
    },
    "collapsed": false
   },
   "outputs": [
    {
     "data": {
      "text/plain": [
       "[<xview.ObjectWidget at 0xcb0f1f8>,\n",
       " <view_scatter_3d (PyQt4) at 0xcb2e208L>,\n",
       " <View (PyQt4) at 0xd797cf8L>,\n",
       " <view_multiwave (PyQt4) at 0xd6343c8L>]"
      ]
     },
     "execution_count": 11,
     "metadata": {},
     "output_type": "execute_result"
    }
   ],
   "source": [
    "gui.list_views()"
   ]
  },
  {
   "cell_type": "code",
   "execution_count": 12,
   "metadata": {
    "ExecuteTime": {
     "end_time": "2016-05-15T14:08:54.853000",
     "start_time": "2016-05-15T14:08:54.814000"
    },
    "collapsed": false
   },
   "outputs": [],
   "source": [
    "def update_params():\n",
    "    ch = props.ch.value()\n",
    "    fet_method = props.fet_combo.currentText()\n",
    "    if fet_method == 'peak':\n",
    "        fet = spk.tofet('peak')\n",
    "    elif fet_method == 'pca':\n",
    "        fet = spk.tofet('pca')\n",
    "        \n",
    "    min_cluster_size = 20\n",
    "    #     min_samples = 3\n",
    "    leaf_size = 30\n",
    "    hdbcluster = HDBSCAN(min_cluster_size=min_cluster_size, \n",
    "                     leaf_size=leaf_size,\n",
    "                     gen_min_span_tree=True, \n",
    "    #                      min_samples = min_samples,\n",
    "                     algorithm='best')\n",
    "    global clu\n",
    "    clu = hdbcluster.fit_predict(fet[ch])    \n",
    "    nclu = len(np.unique(clu))\n",
    "    palette = sns.color_palette()    \n",
    "    \n",
    "    # scatter_view update\n",
    "    scatter_view.set_data(fet=fet[ch], clu=clu)\n",
    "    \n",
    "    # spk_view update\n",
    "    spk_view.clear()\n",
    "    spk_view.grid.shape = (3, nclu)\n",
    "    for chNo in range(3):\n",
    "        for clu_id in np.unique(clu):\n",
    "            color = palette[clu_id] if clu_id>=0 else np.array([1,1,1])\n",
    "            spk_view[chNo,clu_id+1].plot(y = spk[ch][clu==clu_id,:,chNo].squeeze(),\n",
    "                                                  color = np.hstack((color, 0.2)),\n",
    "                                                  data_bounds=(-2, -1800, 2, 800))\n",
    "    spk_view.build()\n",
    "\n",
    "    # wave_view update\n",
    "    highlight_list = mua.spk_peak_pos\n",
    "    global time_slice\n",
    "    sublist = np.logical_and(highlight_list[:,0]<(time_slice+1)*span, \n",
    "                             highlight_list[:,0]>(time_slice)*span)\n",
    "    mask_n = highlight_list[sublist][:,0] - time_slice*span\n",
    "    mask_ch = highlight_list[sublist][:,1]\n",
    "    mask = np.hstack((mask_n.reshape(-1,1), mask_ch.reshape(-1,1)))\n",
    "\n",
    "    wave_view.waves1.highlight_cancel()\n",
    "    for clu_id in np.unique(clu):\n",
    "        color = palette[clu_id] if clu_id>=0 else np.array([1,1,1])\n",
    "        wave_view.waves1.highlight_spikes(mask[np.logical_and(clu==clu_id, mask_ch=ch)], color = np.hstack((color, 1)))\n",
    "    \n",
    "\n",
    "props.signal_objet_changed.connect(update_params)"
   ]
  },
  {
   "cell_type": "code",
   "execution_count": 12,
   "metadata": {
    "ExecuteTime": {
     "end_time": "2016-05-15T13:00:58.383000",
     "start_time": "2016-05-15T13:00:58.374000"
    },
    "collapsed": false
   },
   "outputs": [],
   "source": [
    "def get_current_spikes(ch=None):\n",
    "    highlight_list = mua.spk_peak_pos\n",
    "    global time_slice\n",
    "    sublist = np.logical_and(highlight_list[:,0]<(time_slice+1)*span, \n",
    "                             highlight_list[:,0]>(time_slice)*span)\n",
    "    mask_n = highlight_list[sublist][:,0] - time_slice*span\n",
    "    mask_ch = highlight_list[sublist][:,1]\n",
    "    mask = np.hstack((mask_n.reshape(-1,1), mask_ch.reshape(-1,1)))\n",
    "    \n",
    "    if ch is None:\n",
    "        return mask\n",
    "    else:\n",
    "        mask = mask[mask[:,1]==ch]\n",
    "        return mask"
   ]
  },
  {
   "cell_type": "code",
   "execution_count": 33,
   "metadata": {
    "ExecuteTime": {
     "end_time": "2016-05-15T13:29:27.472000",
     "start_time": "2016-05-15T13:29:27.468000"
    },
    "collapsed": false,
    "scrolled": true
   },
   "outputs": [],
   "source": [
    "ch = props.ch.value()\n",
    "mask = get_current_spikes(ch)"
   ]
  },
  {
   "cell_type": "code",
   "execution_count": 34,
   "metadata": {
    "ExecuteTime": {
     "end_time": "2016-05-15T13:29:27.702000",
     "start_time": "2016-05-15T13:29:27.668000"
    },
    "collapsed": false
   },
   "outputs": [],
   "source": [
    "wave_view.waves1.highlight_cancel()\n",
    "wave_view.waves1.highlight_spikes(mask, color=(0,1,1,0.5))"
   ]
  },
  {
   "cell_type": "code",
   "execution_count": 39,
   "metadata": {
    "ExecuteTime": {
     "end_time": "2016-05-14T16:55:56.787000",
     "start_time": "2016-05-14T16:55:56.783000"
    },
    "collapsed": false
   },
   "outputs": [],
   "source": [
    "wave_view.waves1.highlight(spacial_code=(31,), \n",
    "                           temporal_code=((0,span),), \n",
    "                           highlight_color=(1,1,1,.2))"
   ]
  },
  {
   "cell_type": "code",
   "execution_count": 41,
   "metadata": {
    "ExecuteTime": {
     "end_time": "2016-05-14T16:58:00.888000",
     "start_time": "2016-05-14T16:58:00.873000"
    },
    "collapsed": true
   },
   "outputs": [],
   "source": [
    "gui.show()"
   ]
  },
  {
   "cell_type": "markdown",
   "metadata": {},
   "source": [
    "# Manual"
   ]
  },
  {
   "cell_type": "code",
   "execution_count": 11,
   "metadata": {
    "ExecuteTime": {
     "end_time": "2016-05-12T11:31:32.343000",
     "start_time": "2016-05-12T11:31:32.323000"
    },
    "collapsed": true
   },
   "outputs": [],
   "source": [
    "from phy.cluster.manual import Clustering\n",
    "from phy.cluster.manual.gui_component import ManualClustering"
   ]
  },
  {
   "cell_type": "code",
   "execution_count": 12,
   "metadata": {
    "ExecuteTime": {
     "end_time": "2016-05-12T11:31:33.193000",
     "start_time": "2016-05-12T11:31:33.187000"
    },
    "collapsed": false
   },
   "outputs": [],
   "source": [
    "clu += 1\n",
    "clustering = Clustering(clu)"
   ]
  },
  {
   "cell_type": "code",
   "execution_count": 13,
   "metadata": {
    "ExecuteTime": {
     "end_time": "2016-05-12T11:31:33.939000",
     "start_time": "2016-05-12T11:31:33.931000"
    },
    "collapsed": false
   },
   "outputs": [
    {
     "data": {
      "text/plain": [
       "array([0, 1, 2], dtype=int64)"
      ]
     },
     "execution_count": 13,
     "metadata": {},
     "output_type": "execute_result"
    }
   ],
   "source": [
    "clustering.cluster_ids"
   ]
  },
  {
   "cell_type": "code",
   "execution_count": null,
   "metadata": {
    "collapsed": true
   },
   "outputs": [],
   "source": []
  },
  {
   "cell_type": "code",
   "execution_count": 23,
   "metadata": {
    "ExecuteTime": {
     "end_time": "2016-05-12T11:38:19.185000",
     "start_time": "2016-05-12T11:38:19.180000"
    },
    "collapsed": false
   },
   "outputs": [],
   "source": [
    "spike_clusters = clu\n",
    "spikes_per_cluster = lambda c: np.where(clu==c)[0]"
   ]
  },
  {
   "cell_type": "code",
   "execution_count": 24,
   "metadata": {
    "ExecuteTime": {
     "end_time": "2016-05-12T11:38:19.734000",
     "start_time": "2016-05-12T11:38:19.724000"
    },
    "collapsed": false
   },
   "outputs": [
    {
     "data": {
      "text/plain": [
       "array([ 338,  373,  374,  384,  420,  453,  496,  560,  578,  618,  634,\n",
       "        663,  764,  768,  795, 1118, 1278, 1288, 1327, 1328, 1444, 1528,\n",
       "       1672, 1821, 1922, 1998, 1999, 2119, 2145, 2180, 2268, 2432, 2445,\n",
       "       2644, 2895, 2940, 2963, 3061, 3099, 3127, 3223, 3253, 3392, 3427,\n",
       "       3440, 3475, 3799, 3846, 3858, 3873, 3913, 3930, 3973, 3992, 4223,\n",
       "       4352, 4387, 4408, 4544, 4599, 4774, 4789, 4812, 4912, 5008, 5009,\n",
       "       5026, 5077, 5207, 5268, 5286, 5360, 5460, 5498, 5538, 5572, 5592,\n",
       "       5684, 5692, 5700, 5720, 5729, 5739, 5761, 5781, 5818, 5869, 5888,\n",
       "       5889, 5896, 5898, 5902, 5961, 5962, 5987, 6052, 6084, 6122, 6129,\n",
       "       6142, 6188, 6200, 6211, 6235, 6312, 6315, 6355, 6374, 6444, 6450,\n",
       "       6459], dtype=int64)"
      ]
     },
     "execution_count": 24,
     "metadata": {},
     "output_type": "execute_result"
    }
   ],
   "source": [
    "spikes_per_cluster(0)"
   ]
  },
  {
   "cell_type": "code",
   "execution_count": 25,
   "metadata": {
    "ExecuteTime": {
     "end_time": "2016-05-12T11:38:26.500000",
     "start_time": "2016-05-12T11:38:26.438000"
    },
    "collapsed": false
   },
   "outputs": [],
   "source": [
    "mc = ManualClustering(spike_clusters, spikes_per_cluster)"
   ]
  },
  {
   "cell_type": "code",
   "execution_count": 26,
   "metadata": {
    "ExecuteTime": {
     "end_time": "2016-05-12T11:38:27.599000",
     "start_time": "2016-05-12T11:38:27.580000"
    },
    "collapsed": false
   },
   "outputs": [
    {
     "data": {
      "text/plain": [
       "<phy.cluster.manual.gui_component.ManualClustering at 0xfd52400>"
      ]
     },
     "execution_count": 26,
     "metadata": {},
     "output_type": "execute_result"
    }
   ],
   "source": [
    "mc.attach(gui)"
   ]
  },
  {
   "cell_type": "code",
   "execution_count": null,
   "metadata": {
    "collapsed": true
   },
   "outputs": [],
   "source": []
  },
  {
   "cell_type": "code",
   "execution_count": null,
   "metadata": {
    "collapsed": true
   },
   "outputs": [],
   "source": []
  },
  {
   "cell_type": "code",
   "execution_count": null,
   "metadata": {
    "collapsed": true
   },
   "outputs": [],
   "source": []
  },
  {
   "cell_type": "markdown",
   "metadata": {},
   "source": [
    "# Table"
   ]
  },
  {
   "cell_type": "code",
   "execution_count": 11,
   "metadata": {
    "ExecuteTime": {
     "end_time": "2016-05-12T12:35:25.804000",
     "start_time": "2016-05-12T12:35:25.799000"
    },
    "collapsed": true
   },
   "outputs": [],
   "source": [
    "from phy.gui import Table"
   ]
  },
  {
   "cell_type": "code",
   "execution_count": 12,
   "metadata": {
    "ExecuteTime": {
     "end_time": "2016-05-12T12:35:26.510000",
     "start_time": "2016-05-12T12:35:26.464000"
    },
    "collapsed": true
   },
   "outputs": [],
   "source": [
    "table = Table()"
   ]
  },
  {
   "cell_type": "code",
   "execution_count": 13,
   "metadata": {
    "ExecuteTime": {
     "end_time": "2016-05-12T12:35:27.285000",
     "start_time": "2016-05-12T12:35:27.279000"
    },
    "collapsed": true
   },
   "outputs": [],
   "source": [
    "@table.add_column\n",
    "def name(id):\n",
    "    # This function takes an id as input and returns a string.\n",
    "    return \"My id is %d\" % id"
   ]
  },
  {
   "cell_type": "code",
   "execution_count": 14,
   "metadata": {
    "ExecuteTime": {
     "end_time": "2016-05-12T12:35:28.077000",
     "start_time": "2016-05-12T12:35:28.071000"
    },
    "collapsed": true
   },
   "outputs": [],
   "source": [
    "table.set_rows([2, 3, 5, 7])"
   ]
  },
  {
   "cell_type": "code",
   "execution_count": 15,
   "metadata": {
    "ExecuteTime": {
     "end_time": "2016-05-12T12:35:29.157000",
     "start_time": "2016-05-12T12:35:29.151000"
    },
    "collapsed": true
   },
   "outputs": [],
   "source": [
    "@table.connect_\n",
    "def on_select(ids):\n",
    "    print(\"The items %s have been selected.\" % ids)"
   ]
  },
  {
   "cell_type": "code",
   "execution_count": 17,
   "metadata": {
    "ExecuteTime": {
     "end_time": "2016-05-12T12:35:44.365000",
     "start_time": "2016-05-12T12:35:44.328000"
    },
    "collapsed": false
   },
   "outputs": [
    {
     "data": {
      "text/plain": [
       "<phy.gui.gui.DockWidget at 0xf937558>"
      ]
     },
     "execution_count": 17,
     "metadata": {},
     "output_type": "execute_result"
    }
   ],
   "source": [
    "gui.add_view(table)"
   ]
  },
  {
   "cell_type": "code",
   "execution_count": 18,
   "metadata": {
    "ExecuteTime": {
     "end_time": "2016-05-12T12:35:54.045000",
     "start_time": "2016-05-12T12:35:53.991000"
    },
    "collapsed": false,
    "scrolled": true
   },
   "outputs": [
    {
     "name": "stdout",
     "output_type": "stream",
     "text": [
      "The items [2] have been selected.\n",
      "The items [3] have been selected.\n",
      "The items [5] have been selected.\n",
      "The items [5, 7] have been selected.\n"
     ]
    }
   ],
   "source": [
    "table.show()"
   ]
  },
  {
   "cell_type": "code",
   "execution_count": 19,
   "metadata": {
    "ExecuteTime": {
     "end_time": "2016-05-12T12:36:10.420000",
     "start_time": "2016-05-12T12:36:10.415000"
    },
    "collapsed": true
   },
   "outputs": [],
   "source": [
    "from phy.gui import Actions"
   ]
  },
  {
   "cell_type": "code",
   "execution_count": 20,
   "metadata": {
    "ExecuteTime": {
     "end_time": "2016-05-12T12:36:11.307000",
     "start_time": "2016-05-12T12:36:11.303000"
    },
    "collapsed": false
   },
   "outputs": [],
   "source": [
    "actions = Actions(gui)"
   ]
  },
  {
   "cell_type": "code",
   "execution_count": 21,
   "metadata": {
    "ExecuteTime": {
     "end_time": "2016-05-12T12:36:12.541000",
     "start_time": "2016-05-12T12:36:12.535000"
    },
    "collapsed": false,
    "scrolled": false
   },
   "outputs": [
    {
     "name": "stdout",
     "output_type": "stream",
     "text": [
      "The items [5] have been selected.\n",
      "c\n",
      "c\n",
      "The items [3] have been selected.\n",
      "The items [3, 7] have been selected.\n",
      "c\n",
      "c\n"
     ]
    }
   ],
   "source": [
    "@actions.add(shortcut='c')\n",
    "def respond():\n",
    "    print 'c'"
   ]
  },
  {
   "cell_type": "code",
   "execution_count": 49,
   "metadata": {
    "ExecuteTime": {
     "end_time": "2016-05-12T12:21:58.789000",
     "start_time": "2016-05-12T12:21:58.775000"
    },
    "collapsed": false,
    "scrolled": true
   },
   "outputs": [
    {
     "name": "stderr",
     "output_type": "stream",
     "text": [
      "WARNING: QAction::eventFilter: Ambiguous shortcut overload: G\n"
     ]
    }
   ],
   "source": [
    "gui.show()"
   ]
  },
  {
   "cell_type": "code",
   "execution_count": null,
   "metadata": {
    "collapsed": true
   },
   "outputs": [],
   "source": []
  }
 ],
 "metadata": {
  "kernelspec": {
   "display_name": "Python 2",
   "language": "python",
   "name": "python2"
  },
  "language_info": {
   "codemirror_mode": {
    "name": "ipython",
    "version": 2
   },
   "file_extension": ".py",
   "mimetype": "text/x-python",
   "name": "python",
   "nbconvert_exporter": "python",
   "pygments_lexer": "ipython2",
   "version": "2.7.11"
  }
 },
 "nbformat": 4,
 "nbformat_minor": 0
}
